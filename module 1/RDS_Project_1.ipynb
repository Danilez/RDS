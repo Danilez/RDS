{
  "nbformat": 4,
  "nbformat_minor": 0,
  "metadata": {
    "colab": {
      "name": "RDS Project 1",
      "provenance": [],
      "toc_visible": true,
      "include_colab_link": true
    },
    "kernelspec": {
      "display_name": "Python 3",
      "language": "python",
      "name": "python3"
    },
    "language_info": {
      "codemirror_mode": {
        "name": "ipython",
        "version": 3
      },
      "file_extension": ".py",
      "mimetype": "text/x-python",
      "name": "python",
      "nbconvert_exporter": "python",
      "pygments_lexer": "ipython3",
      "version": "3.7.4"
    }
  },
  "cells": [
    {
      "cell_type": "markdown",
      "metadata": {
        "id": "view-in-github",
        "colab_type": "text"
      },
      "source": [
        "<a href=\"https://colab.research.google.com/github/Danilez/RDS/blob/master/module%201/RDS_Project_1.ipynb\" target=\"_parent\"><img src=\"https://colab.research.google.com/assets/colab-badge.svg\" alt=\"Open In Colab\"/></a>"
      ]
    },
    {
      "cell_type": "markdown",
      "metadata": {
        "id": "O09hGT5Kole-"
      },
      "source": [
        "# Импорт библиотек и загрузка данных"
      ]
    },
    {
      "cell_type": "code",
      "metadata": {
        "_cell_guid": "b1076dfc-b9ad-4769-8c92-a6c4dae69d19",
        "_uuid": "8f2839f25d086af736a60e9eeb907d3b93b6e0e5",
        "id": "U2D2gTdJVp90"
      },
      "source": [
        "import numpy as np\n",
        "import pandas as pd\n",
        "import seaborn as sns\n",
        "import matplotlib.pyplot as plt\n",
        "from collections import Counter"
      ],
      "execution_count": 298,
      "outputs": []
    },
    {
      "cell_type": "code",
      "metadata": {
        "_cell_guid": "79c7e3d0-c299-4dcb-8224-4455121ee9b0",
        "_uuid": "d629ff2d2480ee46fbb7e2d37f6b5fab8052498a",
        "colab": {
          "base_uri": "https://localhost:8080/",
          "height": 0
        },
        "id": "oyGfxL3eVp9-",
        "outputId": "4c632633-6069-40c7-8b34-b07c6bd714d5"
      },
      "source": [
        "url = 'https://lms.skillfactory.ru/assets/courseware/v1/1d68c628a08cd5521ae70e976577568b/asset-v1:Skillfactory+DST-WEEKLY-2.0+08JULY2020+type@asset+block/movie_bd_v5.csv'\n",
        "data = pd.read_csv(url)\n",
        "data.sample(3)"
      ],
      "execution_count": 299,
      "outputs": [
        {
          "output_type": "execute_result",
          "data": {
            "text/html": [
              "<div>\n",
              "<style scoped>\n",
              "    .dataframe tbody tr th:only-of-type {\n",
              "        vertical-align: middle;\n",
              "    }\n",
              "\n",
              "    .dataframe tbody tr th {\n",
              "        vertical-align: top;\n",
              "    }\n",
              "\n",
              "    .dataframe thead th {\n",
              "        text-align: right;\n",
              "    }\n",
              "</style>\n",
              "<table border=\"1\" class=\"dataframe\">\n",
              "  <thead>\n",
              "    <tr style=\"text-align: right;\">\n",
              "      <th></th>\n",
              "      <th>imdb_id</th>\n",
              "      <th>budget</th>\n",
              "      <th>revenue</th>\n",
              "      <th>original_title</th>\n",
              "      <th>cast</th>\n",
              "      <th>director</th>\n",
              "      <th>tagline</th>\n",
              "      <th>overview</th>\n",
              "      <th>runtime</th>\n",
              "      <th>genres</th>\n",
              "      <th>production_companies</th>\n",
              "      <th>release_date</th>\n",
              "      <th>vote_average</th>\n",
              "      <th>release_year</th>\n",
              "    </tr>\n",
              "  </thead>\n",
              "  <tbody>\n",
              "    <tr>\n",
              "      <th>1553</th>\n",
              "      <td>tt0462519</td>\n",
              "      <td>20000000</td>\n",
              "      <td>17807569</td>\n",
              "      <td>School for Scoundrels</td>\n",
              "      <td>Billy Bob Thornton|Jon Heder|Jacinda Barrett|S...</td>\n",
              "      <td>Todd Phillips</td>\n",
              "      <td>Life's A Game. Learn How To Play.</td>\n",
              "      <td>A young guy short on luck, enrolls in a class ...</td>\n",
              "      <td>100</td>\n",
              "      <td>Comedy|Drama|Romance</td>\n",
              "      <td>Dimension Films</td>\n",
              "      <td>9/29/2006</td>\n",
              "      <td>5.5</td>\n",
              "      <td>2006</td>\n",
              "    </tr>\n",
              "    <tr>\n",
              "      <th>415</th>\n",
              "      <td>tt1023114</td>\n",
              "      <td>30000000</td>\n",
              "      <td>20348249</td>\n",
              "      <td>The Way Back</td>\n",
              "      <td>Colin Farrell|Dejan Angelov|DragoÈ™ Bucur|Ed H...</td>\n",
              "      <td>Peter Weir</td>\n",
              "      <td>Their escape was just the beginning</td>\n",
              "      <td>Peter Weir's follow-up to Master &amp;amp; Command...</td>\n",
              "      <td>133</td>\n",
              "      <td>Drama|Adventure|History</td>\n",
              "      <td>Polish Film Institute|Imagenation Abu Dhabi FZ...</td>\n",
              "      <td>9/3/2010</td>\n",
              "      <td>6.7</td>\n",
              "      <td>2010</td>\n",
              "    </tr>\n",
              "    <tr>\n",
              "      <th>1588</th>\n",
              "      <td>tt0307453</td>\n",
              "      <td>75000000</td>\n",
              "      <td>367275019</td>\n",
              "      <td>Shark Tale</td>\n",
              "      <td>Will Smith|Robert De Niro|RenÃ©e Zellweger|Jac...</td>\n",
              "      <td>Bibo Bergeron|Vicky Jenson|Rob Letterman</td>\n",
              "      <td>The story of what happens when one little fish...</td>\n",
              "      <td>Oscar is a small fish whose big aspirations of...</td>\n",
              "      <td>90</td>\n",
              "      <td>Animation|Action|Comedy|Family</td>\n",
              "      <td>DreamWorks SKG|Pacific Data Images (PDI)|Dream...</td>\n",
              "      <td>9/20/2004</td>\n",
              "      <td>5.8</td>\n",
              "      <td>2004</td>\n",
              "    </tr>\n",
              "  </tbody>\n",
              "</table>\n",
              "</div>"
            ],
            "text/plain": [
              "        imdb_id    budget    revenue  ... release_date vote_average release_year\n",
              "1553  tt0462519  20000000   17807569  ...    9/29/2006          5.5         2006\n",
              "415   tt1023114  30000000   20348249  ...     9/3/2010          6.7         2010\n",
              "1588  tt0307453  75000000  367275019  ...    9/20/2004          5.8         2004\n",
              "\n",
              "[3 rows x 14 columns]"
            ]
          },
          "metadata": {
            "tags": []
          },
          "execution_count": 299
        }
      ]
    },
    {
      "cell_type": "code",
      "metadata": {
        "colab": {
          "base_uri": "https://localhost:8080/",
          "height": 0
        },
        "id": "CoYUnagMVp-C",
        "outputId": "a2bfe799-e1e3-4ae5-f228-2f4b758cd99c"
      },
      "source": [
        "data.describe()"
      ],
      "execution_count": 300,
      "outputs": [
        {
          "output_type": "execute_result",
          "data": {
            "text/html": [
              "<div>\n",
              "<style scoped>\n",
              "    .dataframe tbody tr th:only-of-type {\n",
              "        vertical-align: middle;\n",
              "    }\n",
              "\n",
              "    .dataframe tbody tr th {\n",
              "        vertical-align: top;\n",
              "    }\n",
              "\n",
              "    .dataframe thead th {\n",
              "        text-align: right;\n",
              "    }\n",
              "</style>\n",
              "<table border=\"1\" class=\"dataframe\">\n",
              "  <thead>\n",
              "    <tr style=\"text-align: right;\">\n",
              "      <th></th>\n",
              "      <th>budget</th>\n",
              "      <th>revenue</th>\n",
              "      <th>runtime</th>\n",
              "      <th>vote_average</th>\n",
              "      <th>release_year</th>\n",
              "    </tr>\n",
              "  </thead>\n",
              "  <tbody>\n",
              "    <tr>\n",
              "      <th>count</th>\n",
              "      <td>1.889000e+03</td>\n",
              "      <td>1.889000e+03</td>\n",
              "      <td>1889.000000</td>\n",
              "      <td>1889.000000</td>\n",
              "      <td>1889.000000</td>\n",
              "    </tr>\n",
              "    <tr>\n",
              "      <th>mean</th>\n",
              "      <td>5.431083e+07</td>\n",
              "      <td>1.553653e+08</td>\n",
              "      <td>109.658549</td>\n",
              "      <td>6.140762</td>\n",
              "      <td>2007.860773</td>\n",
              "    </tr>\n",
              "    <tr>\n",
              "      <th>std</th>\n",
              "      <td>4.858721e+07</td>\n",
              "      <td>2.146698e+08</td>\n",
              "      <td>18.017041</td>\n",
              "      <td>0.764763</td>\n",
              "      <td>4.468841</td>\n",
              "    </tr>\n",
              "    <tr>\n",
              "      <th>min</th>\n",
              "      <td>5.000000e+06</td>\n",
              "      <td>2.033165e+06</td>\n",
              "      <td>63.000000</td>\n",
              "      <td>3.300000</td>\n",
              "      <td>2000.000000</td>\n",
              "    </tr>\n",
              "    <tr>\n",
              "      <th>25%</th>\n",
              "      <td>2.000000e+07</td>\n",
              "      <td>3.456058e+07</td>\n",
              "      <td>97.000000</td>\n",
              "      <td>5.600000</td>\n",
              "      <td>2004.000000</td>\n",
              "    </tr>\n",
              "    <tr>\n",
              "      <th>50%</th>\n",
              "      <td>3.800000e+07</td>\n",
              "      <td>8.361541e+07</td>\n",
              "      <td>107.000000</td>\n",
              "      <td>6.100000</td>\n",
              "      <td>2008.000000</td>\n",
              "    </tr>\n",
              "    <tr>\n",
              "      <th>75%</th>\n",
              "      <td>7.200000e+07</td>\n",
              "      <td>1.782626e+08</td>\n",
              "      <td>120.000000</td>\n",
              "      <td>6.600000</td>\n",
              "      <td>2012.000000</td>\n",
              "    </tr>\n",
              "    <tr>\n",
              "      <th>max</th>\n",
              "      <td>3.800000e+08</td>\n",
              "      <td>2.781506e+09</td>\n",
              "      <td>214.000000</td>\n",
              "      <td>8.100000</td>\n",
              "      <td>2015.000000</td>\n",
              "    </tr>\n",
              "  </tbody>\n",
              "</table>\n",
              "</div>"
            ],
            "text/plain": [
              "             budget       revenue      runtime  vote_average  release_year\n",
              "count  1.889000e+03  1.889000e+03  1889.000000   1889.000000   1889.000000\n",
              "mean   5.431083e+07  1.553653e+08   109.658549      6.140762   2007.860773\n",
              "std    4.858721e+07  2.146698e+08    18.017041      0.764763      4.468841\n",
              "min    5.000000e+06  2.033165e+06    63.000000      3.300000   2000.000000\n",
              "25%    2.000000e+07  3.456058e+07    97.000000      5.600000   2004.000000\n",
              "50%    3.800000e+07  8.361541e+07   107.000000      6.100000   2008.000000\n",
              "75%    7.200000e+07  1.782626e+08   120.000000      6.600000   2012.000000\n",
              "max    3.800000e+08  2.781506e+09   214.000000      8.100000   2015.000000"
            ]
          },
          "metadata": {
            "tags": []
          },
          "execution_count": 300
        }
      ]
    },
    {
      "cell_type": "code",
      "metadata": {
        "id": "-X8IVJLPka_3"
      },
      "source": [
        "df = data.copy()"
      ],
      "execution_count": 301,
      "outputs": []
    },
    {
      "cell_type": "markdown",
      "metadata": {
        "id": "DTIt7ezGVp-G"
      },
      "source": [
        "# Предобработка"
      ]
    },
    {
      "cell_type": "code",
      "metadata": {
        "id": "jNb40DwKVp-H",
        "colab": {
          "base_uri": "https://localhost:8080/",
          "height": 0
        },
        "outputId": "51265172-4648-41f5-8581-dfc64d1d550f"
      },
      "source": [
        "answers = {} # создадим словарь для ответов\n",
        "\n",
        "# тут другие ваши предобработки колонок например:\n",
        "\n",
        "#the time given in the dataset is in string format.\n",
        "#So we need to change this in datetime format\n",
        "# ...\n",
        "\n",
        "# Добавляем столбец \"Прибыль\":\n",
        "df['profit'] = data['revenue'] - data['budget']\n",
        "\n",
        "# Обрабатываем столбец \"Жанры\":\n",
        "df['genres'] = data['genres'].apply(lambda x: x.split('|'))\n",
        "\n",
        "# Обрабатываем столбец \"Актеры\":\n",
        "df['cast'] = data['cast'].apply(lambda x: x.split('|'))\n",
        "\n",
        "# Обрабатываем столбец \"Дата\":\n",
        "df['release_date'] = data['release_date'].apply(lambda x: pd.Timestamp(x))\n",
        "\n",
        "df.head(3)"
      ],
      "execution_count": 302,
      "outputs": [
        {
          "output_type": "execute_result",
          "data": {
            "text/html": [
              "<div>\n",
              "<style scoped>\n",
              "    .dataframe tbody tr th:only-of-type {\n",
              "        vertical-align: middle;\n",
              "    }\n",
              "\n",
              "    .dataframe tbody tr th {\n",
              "        vertical-align: top;\n",
              "    }\n",
              "\n",
              "    .dataframe thead th {\n",
              "        text-align: right;\n",
              "    }\n",
              "</style>\n",
              "<table border=\"1\" class=\"dataframe\">\n",
              "  <thead>\n",
              "    <tr style=\"text-align: right;\">\n",
              "      <th></th>\n",
              "      <th>imdb_id</th>\n",
              "      <th>budget</th>\n",
              "      <th>revenue</th>\n",
              "      <th>original_title</th>\n",
              "      <th>cast</th>\n",
              "      <th>director</th>\n",
              "      <th>tagline</th>\n",
              "      <th>overview</th>\n",
              "      <th>runtime</th>\n",
              "      <th>genres</th>\n",
              "      <th>production_companies</th>\n",
              "      <th>release_date</th>\n",
              "      <th>vote_average</th>\n",
              "      <th>release_year</th>\n",
              "      <th>profit</th>\n",
              "    </tr>\n",
              "  </thead>\n",
              "  <tbody>\n",
              "    <tr>\n",
              "      <th>0</th>\n",
              "      <td>tt0369610</td>\n",
              "      <td>150000000</td>\n",
              "      <td>1513528810</td>\n",
              "      <td>Jurassic World</td>\n",
              "      <td>[Chris Pratt, Bryce Dallas Howard, Irrfan Khan...</td>\n",
              "      <td>Colin Trevorrow</td>\n",
              "      <td>The park is open.</td>\n",
              "      <td>Twenty-two years after the events of Jurassic ...</td>\n",
              "      <td>124</td>\n",
              "      <td>[Action, Adventure, Science Fiction, Thriller]</td>\n",
              "      <td>Universal Studios|Amblin Entertainment|Legenda...</td>\n",
              "      <td>2015-06-09</td>\n",
              "      <td>6.5</td>\n",
              "      <td>2015</td>\n",
              "      <td>1363528810</td>\n",
              "    </tr>\n",
              "    <tr>\n",
              "      <th>1</th>\n",
              "      <td>tt1392190</td>\n",
              "      <td>150000000</td>\n",
              "      <td>378436354</td>\n",
              "      <td>Mad Max: Fury Road</td>\n",
              "      <td>[Tom Hardy, Charlize Theron, Hugh Keays-Byrne,...</td>\n",
              "      <td>George Miller</td>\n",
              "      <td>What a Lovely Day.</td>\n",
              "      <td>An apocalyptic story set in the furthest reach...</td>\n",
              "      <td>120</td>\n",
              "      <td>[Action, Adventure, Science Fiction, Thriller]</td>\n",
              "      <td>Village Roadshow Pictures|Kennedy Miller Produ...</td>\n",
              "      <td>2015-05-13</td>\n",
              "      <td>7.1</td>\n",
              "      <td>2015</td>\n",
              "      <td>228436354</td>\n",
              "    </tr>\n",
              "    <tr>\n",
              "      <th>2</th>\n",
              "      <td>tt2908446</td>\n",
              "      <td>110000000</td>\n",
              "      <td>295238201</td>\n",
              "      <td>Insurgent</td>\n",
              "      <td>[Shailene Woodley, Theo James, Kate Winslet, A...</td>\n",
              "      <td>Robert Schwentke</td>\n",
              "      <td>One Choice Can Destroy You</td>\n",
              "      <td>Beatrice Prior must confront her inner demons ...</td>\n",
              "      <td>119</td>\n",
              "      <td>[Adventure, Science Fiction, Thriller]</td>\n",
              "      <td>Summit Entertainment|Mandeville Films|Red Wago...</td>\n",
              "      <td>2015-03-18</td>\n",
              "      <td>6.3</td>\n",
              "      <td>2015</td>\n",
              "      <td>185238201</td>\n",
              "    </tr>\n",
              "  </tbody>\n",
              "</table>\n",
              "</div>"
            ],
            "text/plain": [
              "     imdb_id     budget     revenue  ... vote_average release_year      profit\n",
              "0  tt0369610  150000000  1513528810  ...          6.5         2015  1363528810\n",
              "1  tt1392190  150000000   378436354  ...          7.1         2015   228436354\n",
              "2  tt2908446  110000000   295238201  ...          6.3         2015   185238201\n",
              "\n",
              "[3 rows x 15 columns]"
            ]
          },
          "metadata": {
            "tags": []
          },
          "execution_count": 302
        }
      ]
    },
    {
      "cell_type": "markdown",
      "metadata": {
        "id": "YxZaH-nPVp-L"
      },
      "source": [
        "# 1. У какого фильма из списка самый большой бюджет?"
      ]
    },
    {
      "cell_type": "markdown",
      "metadata": {
        "id": "Nd-G5gX6Vp-M"
      },
      "source": [
        "Использовать варианты ответов в коде решения запрещено.    \n",
        "Вы думаете и в жизни у вас будут варианты ответов?)"
      ]
    },
    {
      "cell_type": "code",
      "metadata": {
        "id": "uVnXAY5RVp-O"
      },
      "source": [
        "# в словарь вставляем номер вопроса и ваш ответ на него\n",
        "# Пример: \n",
        "answers['1'] = '2. Spider-Man 3 (tt0413300)'\n",
        "# запишите свой вариант ответа\n",
        "answers['1'] = '...'\n",
        "# если ответили верно, можете добавить комментарий со значком \"+\""
      ],
      "execution_count": 303,
      "outputs": []
    },
    {
      "cell_type": "code",
      "metadata": {
        "id": "dZwb3m28Vp-S"
      },
      "source": [
        "answers['1'] = df[df['budget']==df['budget'].max()]['original_title'].values[0]"
      ],
      "execution_count": 304,
      "outputs": []
    },
    {
      "cell_type": "markdown",
      "metadata": {
        "id": "FNRbbI3vVp-c"
      },
      "source": [
        "# 2. Какой из фильмов самый длительный (в минутах)?"
      ]
    },
    {
      "cell_type": "code",
      "metadata": {
        "id": "ot-VX2XrVp-g"
      },
      "source": [
        "answers['2'] = df[df['runtime']==df['runtime'].max()]['original_title'].values[0]"
      ],
      "execution_count": 305,
      "outputs": []
    },
    {
      "cell_type": "markdown",
      "metadata": {
        "id": "bapLlpW8Vp-k"
      },
      "source": [
        "# 3. Какой из фильмов самый короткий (в минутах)?\n",
        "\n",
        "\n",
        "\n"
      ]
    },
    {
      "cell_type": "code",
      "metadata": {
        "id": "YBxaSHuAVp-l"
      },
      "source": [
        "answers['3'] = df[df['runtime']==df['runtime'].min()]['original_title'].values[0]"
      ],
      "execution_count": 306,
      "outputs": []
    },
    {
      "cell_type": "markdown",
      "metadata": {
        "id": "TfQbxbfNVp-p"
      },
      "source": [
        "# 4. Какова средняя длительность фильмов?\n"
      ]
    },
    {
      "cell_type": "code",
      "metadata": {
        "id": "5K6dKZYVVp-q"
      },
      "source": [
        "answers['4'] = round(df['runtime'].mean(), 0)"
      ],
      "execution_count": 307,
      "outputs": []
    },
    {
      "cell_type": "markdown",
      "metadata": {
        "id": "r5TvbnT_Vp-u"
      },
      "source": [
        "# 5. Каково медианное значение длительности фильмов? "
      ]
    },
    {
      "cell_type": "code",
      "metadata": {
        "id": "iBROplKnVp-v"
      },
      "source": [
        "answers['5'] = df['runtime'].median()"
      ],
      "execution_count": 308,
      "outputs": []
    },
    {
      "cell_type": "markdown",
      "metadata": {
        "id": "39P-deDSVp-y"
      },
      "source": [
        "# 6. Какой самый прибыльный фильм?\n",
        "#### Внимание! Здесь и далее под «прибылью» или «убытками» понимается разность между сборами и бюджетом фильма. (прибыль = сборы - бюджет) в нашем датасете это будет (profit = revenue - budget) "
      ]
    },
    {
      "cell_type": "code",
      "metadata": {
        "id": "UYZh4T9WVp-y"
      },
      "source": [
        "answers['6'] = df[df['profit']==df['profit'].max()]['original_title'].values[0]"
      ],
      "execution_count": 309,
      "outputs": []
    },
    {
      "cell_type": "markdown",
      "metadata": {
        "id": "M99JmIX4Vp-2"
      },
      "source": [
        "# 7. Какой фильм самый убыточный? "
      ]
    },
    {
      "cell_type": "code",
      "metadata": {
        "id": "w-D2m4XPVp-3"
      },
      "source": [
        "answers['7'] = df[df['profit']==df['profit'].min()]['original_title'].values[0]"
      ],
      "execution_count": 310,
      "outputs": []
    },
    {
      "cell_type": "markdown",
      "metadata": {
        "id": "wEOM5ERVVp-6"
      },
      "source": [
        "# 8. У скольких фильмов из датасета объем сборов оказался выше бюджета?"
      ]
    },
    {
      "cell_type": "code",
      "metadata": {
        "id": "y00_7HD6Vp-7"
      },
      "source": [
        "answers['8'] = df[df['revenue']>df['budget']]['original_title'].count()"
      ],
      "execution_count": 311,
      "outputs": []
    },
    {
      "cell_type": "markdown",
      "metadata": {
        "id": "xhpspA9KVp_A"
      },
      "source": [
        "# 9. Какой фильм оказался самым кассовым в 2008 году?"
      ]
    },
    {
      "cell_type": "code",
      "metadata": {
        "id": "MoUyQr9RVp_B"
      },
      "source": [
        "answers['9'] = df[df['release_year']==2008].sort_values(by=['profit'], ascending=False).iloc[0]['original_title']"
      ],
      "execution_count": 312,
      "outputs": []
    },
    {
      "cell_type": "code",
      "metadata": {
        "colab": {
          "base_uri": "https://localhost:8080/",
          "height": 0
        },
        "id": "Hz6BjrSXr6ND",
        "outputId": "bc03c4ef-77ec-4b07-f567-a94492c66138"
      },
      "source": [
        "# Вариант 2\r\n",
        "df_2008 = df[df['release_year']==2008]\r\n",
        "df_2008[df_2008['profit']==df_2008['profit'].max()]['original_title'].values[0]"
      ],
      "execution_count": 313,
      "outputs": [
        {
          "output_type": "execute_result",
          "data": {
            "application/vnd.google.colaboratory.intrinsic+json": {
              "type": "string"
            },
            "text/plain": [
              "'The Dark Knight'"
            ]
          },
          "metadata": {
            "tags": []
          },
          "execution_count": 313
        }
      ]
    },
    {
      "cell_type": "code",
      "metadata": {
        "colab": {
          "base_uri": "https://localhost:8080/",
          "height": 0
        },
        "id": "5Jl-mexUV-dg",
        "outputId": "87e47b8a-ade4-4dcf-aa0c-1bebc07fba82"
      },
      "source": [
        "# Вариант 3\r\n",
        "df.loc[df['release_year']==2008].query('profit==profit.max()')['original_title'].values[0]"
      ],
      "execution_count": 314,
      "outputs": [
        {
          "output_type": "execute_result",
          "data": {
            "application/vnd.google.colaboratory.intrinsic+json": {
              "type": "string"
            },
            "text/plain": [
              "'The Dark Knight'"
            ]
          },
          "metadata": {
            "tags": []
          },
          "execution_count": 314
        }
      ]
    },
    {
      "cell_type": "markdown",
      "metadata": {
        "id": "Zi4hDKidVp_F"
      },
      "source": [
        "# 10. Самый убыточный фильм за период с 2012 по 2014 г. (включительно)?\n"
      ]
    },
    {
      "cell_type": "code",
      "metadata": {
        "id": "XqyRmufJVp_F"
      },
      "source": [
        "answers['10'] = df[(df['release_year']>=2012)&(df['release_year']<= 2014)].sort_values(by=['profit']).iloc[0]['original_title']"
      ],
      "execution_count": 315,
      "outputs": []
    },
    {
      "cell_type": "code",
      "metadata": {
        "colab": {
          "base_uri": "https://localhost:8080/",
          "height": 0
        },
        "id": "RjK52j_lsqwr",
        "outputId": "e3f4acbe-79d0-402d-9c09-78775b35e897"
      },
      "source": [
        "# Вариант 2\r\n",
        "df_2012_2014 = df[(df['release_year']>=2012)&(df['release_year']<= 2014)]\r\n",
        "df_2012_2014[df_2012_2014['profit']==df_2012_2014['profit'].min()]['original_title'].values[0]"
      ],
      "execution_count": 316,
      "outputs": [
        {
          "output_type": "execute_result",
          "data": {
            "application/vnd.google.colaboratory.intrinsic+json": {
              "type": "string"
            },
            "text/plain": [
              "'The Lone Ranger'"
            ]
          },
          "metadata": {
            "tags": []
          },
          "execution_count": 316
        }
      ]
    },
    {
      "cell_type": "code",
      "metadata": {
        "colab": {
          "base_uri": "https://localhost:8080/",
          "height": 0
        },
        "id": "9obhNKLxXF7V",
        "outputId": "0f85821c-cb80-4bb0-d4f8-0c0d40feba0b"
      },
      "source": [
        "# Вариант 3\r\n",
        "df[(df['release_year']>=2012)&(df['release_year']<= 2014)].query('profit==profit.min()')['original_title'].values[0]"
      ],
      "execution_count": 317,
      "outputs": [
        {
          "output_type": "execute_result",
          "data": {
            "application/vnd.google.colaboratory.intrinsic+json": {
              "type": "string"
            },
            "text/plain": [
              "'The Lone Ranger'"
            ]
          },
          "metadata": {
            "tags": []
          },
          "execution_count": 317
        }
      ]
    },
    {
      "cell_type": "markdown",
      "metadata": {
        "id": "EA7Sa9dkVp_I"
      },
      "source": [
        "# 11. Какого жанра фильмов больше всего?"
      ]
    },
    {
      "cell_type": "code",
      "metadata": {
        "id": "zsJAwJ8QVp_J"
      },
      "source": [
        "# Создаем список всех жанров, указанных в датасете:\n",
        "genres = set().union(*[x for x in df['genres']])\n",
        "\n",
        "# Подсчитываем количество указаний жанров в датасете:\n",
        "genres_count = {}\n",
        "for genre in genres:\n",
        "    genres_count[genre] = 0\n",
        "    for row in df['genres']:\n",
        "        if genre in row:\n",
        "            genres_count[genre] += 1\n",
        "genres_count = pd.DataFrame([*genres_count.items()], columns = ['genres', 'count'])\n",
        "answers['11'] = genres_count[genres_count['count']==genres_count['count'].max()]['genres'].values[0]"
      ],
      "execution_count": 318,
      "outputs": []
    },
    {
      "cell_type": "markdown",
      "metadata": {
        "id": "T9_bPWpkVp_Q"
      },
      "source": [
        "# 12. Фильмы какого жанра чаще всего становятся прибыльными? "
      ]
    },
    {
      "cell_type": "code",
      "metadata": {
        "id": "Tmt8MaK1Vp_R"
      },
      "source": [
        "# Можно сделать тоже самое, что и в предыдущем блоке, на датасэте только для прибыльных фильмов\r\n",
        "\r\n",
        "genres_count = {}\r\n",
        "for genre in genres:\r\n",
        "    genres_count[genre] = 0\r\n",
        "    for row in df[df['profit']>0]['genres']:\r\n",
        "        if genre in row:\r\n",
        "            genres_count[genre] += 1\r\n",
        "genres_count = pd.DataFrame([*genres_count.items()], columns = ['genres', 'count'])\r\n",
        "answers['12'] = genres_count[genres_count['count']==genres_count['count'].max()]['genres'].values[0]"
      ],
      "execution_count": 319,
      "outputs": []
    },
    {
      "cell_type": "markdown",
      "metadata": {
        "id": "0F23bgsDVp_U"
      },
      "source": [
        "# 13. У какого режиссера самые большие суммарные кассовые сборы?"
      ]
    },
    {
      "cell_type": "code",
      "metadata": {
        "id": "K6Z3J8ygVp_X"
      },
      "source": [
        "answers['13'] = df.groupby(['director'])['revenue'].sum().idxmax()"
      ],
      "execution_count": 320,
      "outputs": []
    },
    {
      "cell_type": "markdown",
      "metadata": {
        "id": "PsYC9FgRVp_a"
      },
      "source": [
        "# 14. Какой режисер снял больше всего фильмов в стиле Action?"
      ]
    },
    {
      "cell_type": "code",
      "metadata": {
        "id": "96A0kIlrPQft"
      },
      "source": [
        "# Извлекаем всех режиссеров, снимавших фильмы в жанре Action:\r\n",
        "directors_action = []\r\n",
        "\r\n",
        "for director in list(df[data['genres'].str.contains('Action')]['director']):\r\n",
        "  if '|' in director:\r\n",
        "    directors_action.extend(director.split('|'))\r\n",
        "  else:\r\n",
        "    directors_action.append(director)\r\n",
        "\r\n",
        "# Преобразуем в Series для удобства полчения результата:\r\n",
        "directors_action = pd.Series(directors_action)\r\n",
        "answers['14'] = directors_action.value_counts().idxmax()"
      ],
      "execution_count": 321,
      "outputs": []
    },
    {
      "cell_type": "markdown",
      "metadata": {
        "id": "PQ0KciD7Vp_f"
      },
      "source": [
        "# 15. Фильмы с каким актером принесли самые высокие кассовые сборы в 2012 году? "
      ]
    },
    {
      "cell_type": "code",
      "metadata": {
        "id": "uDVbGAg6MAjL"
      },
      "source": [
        "# Сделаем по аналогии с жанрами\r\n",
        "# Создаем список всех актеров, снимавшихся в 2012 году\r\n",
        "actors_2012 = set().union(*[x for x in df[df['release_year']==2012]['cast']])\r\n",
        "\r\n",
        "# Посчитаем суммарные сборы фильмов, в которых снимались данные актеры:\r\n",
        "actors_revenue_2012 = pd.DataFrame()\r\n",
        "for actor in actors_2012:\r\n",
        "  actors_revenue_2012 = actors_revenue_2012.append({'Actor': actor, '2012_Revenue': df[(data['cast'].str.contains(actor)) & (df['release_year']==2012)]['revenue'].sum()}, ignore_index=True)\r\n",
        "answers['15'] = actors_revenue_2012[actors_revenue_2012['2012_Revenue'] == actors_revenue_2012['2012_Revenue'].max()]['Actor'].values[0]"
      ],
      "execution_count": 322,
      "outputs": []
    },
    {
      "cell_type": "markdown",
      "metadata": {
        "id": "mWHyyL7QVp_j"
      },
      "source": [
        "# 16. Какой актер снялся в большем количестве высокобюджетных фильмов?"
      ]
    },
    {
      "cell_type": "code",
      "metadata": {
        "id": "qQtmHKTFVp_k"
      },
      "source": [
        "# Сделаем по аналогии с вопросом 14\r\n",
        "# Извлекаем всех актеров, снимавшихся в высокобюджетных фильмах:\r\n",
        "actors_high_budget = []\r\n",
        "\r\n",
        "for cast in list(df[df['budget']>df['budget'].mean()]['cast']):\r\n",
        "  actors_high_budget.extend(cast)\r\n",
        "\r\n",
        "# Преобразуем в Series для удобства полчения результата:\r\n",
        "actors_high_budget = pd.Series(actors_high_budget)\r\n",
        "answers['16'] = actors_high_budget.value_counts().idxmax()"
      ],
      "execution_count": 323,
      "outputs": []
    },
    {
      "cell_type": "markdown",
      "metadata": {
        "id": "NIh6AaW5Vp_n"
      },
      "source": [
        "# 17. В фильмах какого жанра больше всего снимался Nicolas Cage? "
      ]
    },
    {
      "cell_type": "code",
      "metadata": {
        "id": "H74SJDIBVp_n"
      },
      "source": [
        "nicolas_cage_genres = []\r\n",
        "for genres in df[data['cast'].str.contains('Nicolas Cage')]['genres']:\r\n",
        "  nicolas_cage_genres.extend(genres)\r\n",
        "nicolas_cage_genres = pd.Series(nicolas_cage_genres)\r\n",
        "answers['17'] = nicolas_cage_genres.value_counts().idxmax()"
      ],
      "execution_count": 324,
      "outputs": []
    },
    {
      "cell_type": "markdown",
      "metadata": {
        "id": "RqOmPRfWVp_q"
      },
      "source": [
        "# 18. Самый убыточный фильм от Paramount Pictures"
      ]
    },
    {
      "cell_type": "code",
      "metadata": {
        "id": "9E_B0Y96Vp_r"
      },
      "source": [
        "answers['18'] = df[df['production_companies'].str.contains('Paramount Pictures')].query('profit==profit.min()')['original_title'].values[0]"
      ],
      "execution_count": 325,
      "outputs": []
    },
    {
      "cell_type": "markdown",
      "metadata": {
        "id": "vS8Ur6ddVp_u"
      },
      "source": [
        "# 19. Какой год стал самым успешным по суммарным кассовым сборам?"
      ]
    },
    {
      "cell_type": "code",
      "metadata": {
        "id": "Dnbt4GdIVp_v"
      },
      "source": [
        "answers['19'] = df.groupby(['release_year'])['revenue'].sum().idxmax()"
      ],
      "execution_count": 326,
      "outputs": []
    },
    {
      "cell_type": "markdown",
      "metadata": {
        "id": "JAzJh4QAVp_z"
      },
      "source": [
        "# 20. Какой самый прибыльный год для студии Warner Bros?"
      ]
    },
    {
      "cell_type": "code",
      "metadata": {
        "id": "wgVu02DEVp_0"
      },
      "source": [
        "answers['20'] = df[df['production_companies'].str.contains('Warner Bros')].groupby(['release_year'])['profit'].sum().idxmax()"
      ],
      "execution_count": 327,
      "outputs": []
    },
    {
      "cell_type": "markdown",
      "metadata": {
        "id": "8Im1S2HRVp_4"
      },
      "source": [
        "# 21. В каком месяце за все годы суммарно вышло больше всего фильмов?"
      ]
    },
    {
      "cell_type": "code",
      "metadata": {
        "id": "lev6TH7gVp_4"
      },
      "source": [
        "answers['21'] = df.groupby(df['release_date'].apply(lambda x: x.month_name()))['imdb_id'].count().idxmax()"
      ],
      "execution_count": 328,
      "outputs": []
    },
    {
      "cell_type": "markdown",
      "metadata": {
        "id": "uAJsZ_NeVp_7"
      },
      "source": [
        "# 22. Сколько суммарно вышло фильмов летом? (за июнь, июль, август)"
      ]
    },
    {
      "cell_type": "code",
      "metadata": {
        "id": "Aa-hEREoVp_8"
      },
      "source": [
        "answers['22'] = df.groupby(df['release_date'].apply(lambda x: x.month_name()))['imdb_id'].count()[['June', 'July', 'August']].sum()"
      ],
      "execution_count": 329,
      "outputs": []
    },
    {
      "cell_type": "markdown",
      "metadata": {
        "id": "G94ppOY1VqAA"
      },
      "source": [
        "# 23. Для какого режиссера зима – самое продуктивное время года? "
      ]
    },
    {
      "cell_type": "code",
      "metadata": {
        "id": "RhNTsamuVqAB"
      },
      "source": [
        "director_winter = []\r\n",
        "for director in df[df['release_date'].apply(lambda x: x.month).isin([12, 1, 2])]['director']:\r\n",
        "  if '|' in director:\r\n",
        "    director_winter.extend(director.split('|'))\r\n",
        "  else:\r\n",
        "    director_winter.append(director)\r\n",
        "\r\n",
        "answers['23'] = pd.Series(director_winter).value_counts().idxmax()"
      ],
      "execution_count": 330,
      "outputs": []
    },
    {
      "cell_type": "markdown",
      "metadata": {
        "id": "RBo0JVjVVqAF"
      },
      "source": [
        "# 24. Какая студия дает самые длинные названия своим фильмам по количеству символов?"
      ]
    },
    {
      "cell_type": "code",
      "metadata": {
        "id": "QRGS8L0iVqAG",
        "colab": {
          "base_uri": "https://localhost:8080/"
        },
        "outputId": "14d2686b-008a-4af7-e2b3-f83b97930eeb"
      },
      "source": [
        "# Создадим список всех компаний:\r\n",
        "companies = []\r\n",
        "for company in df['production_companies'].unique():\r\n",
        "  companies.extend(company.split('|'))\r\n",
        "companies = list(set(companies))\r\n",
        "\r\n",
        "# Создадим список, содержащий среднюю длину названия фильмов для каждой студии:\r\n",
        "title_len = pd.Series()\r\n",
        "for company in companies:\r\n",
        "  mean_len = df[df['production_companies'].str.contains(company)]['original_title'].apply(lambda x: len(str(x))).mean()\r\n",
        "  title_len = title_len.append(pd.Series({company: mean_len}))\r\n",
        "answers['24'] = title_len.idxmax()"
      ],
      "execution_count": 331,
      "outputs": [
        {
          "output_type": "stream",
          "text": [
            "/usr/local/lib/python3.6/dist-packages/ipykernel_launcher.py:8: DeprecationWarning: The default dtype for empty Series will be 'object' instead of 'float64' in a future version. Specify a dtype explicitly to silence this warning.\n",
            "  \n",
            "/usr/local/lib/python3.6/dist-packages/pandas/core/strings.py:2001: UserWarning: This pattern has match groups. To actually get the groups, use str.extract.\n",
            "  return func(self, *args, **kwargs)\n"
          ],
          "name": "stderr"
        }
      ]
    },
    {
      "cell_type": "markdown",
      "metadata": {
        "id": "9G0hbvR7VqAK"
      },
      "source": [
        "# 25. Описание фильмов какой студии в среднем самые длинные по количеству слов?"
      ]
    },
    {
      "cell_type": "code",
      "metadata": {
        "id": "Ge2GsLNxVqAK",
        "colab": {
          "base_uri": "https://localhost:8080/"
        },
        "outputId": "d472482a-c661-43b1-ccf9-9820b912b6f9"
      },
      "source": [
        "# Воспользуемся списком компаний из прошлого задания\r\n",
        "overview_len = pd.Series()\r\n",
        "for company in companies:\r\n",
        "  mean_len = df[df['production_companies'].str.contains(company)]['overview'].apply(lambda x: len(str(x))).mean()\r\n",
        "  overview_len = overview_len.append(pd.Series({company: mean_len}))\r\n",
        "answers['25'] = overview_len.idxmax()"
      ],
      "execution_count": 332,
      "outputs": [
        {
          "output_type": "stream",
          "text": [
            "/usr/local/lib/python3.6/dist-packages/ipykernel_launcher.py:2: DeprecationWarning: The default dtype for empty Series will be 'object' instead of 'float64' in a future version. Specify a dtype explicitly to silence this warning.\n",
            "  \n",
            "/usr/local/lib/python3.6/dist-packages/pandas/core/strings.py:2001: UserWarning: This pattern has match groups. To actually get the groups, use str.extract.\n",
            "  return func(self, *args, **kwargs)\n"
          ],
          "name": "stderr"
        }
      ]
    },
    {
      "cell_type": "markdown",
      "metadata": {
        "id": "FJ1AFt90VqAP"
      },
      "source": [
        "# 26. Какие фильмы входят в 1 процент лучших по рейтингу? \n",
        "по vote_average"
      ]
    },
    {
      "cell_type": "code",
      "metadata": {
        "id": "8qmJVq4CVqAQ"
      },
      "source": [
        "# Определим названия лучших 1% фильмов по рейтингу:\r\n",
        "top_films = df.sort_values(by=['vote_average'], ascending=False)[:int(round(len(df)*0.01, 0))]['original_title']\r\n",
        "\r\n",
        "# Создадим перечень наименований фильмов и определим, который полностью находится в списке фильмов:\r\n",
        "variants = {'v1': ['Inside Out', 'The Dark Knight', '12 Years a Slave'],\r\n",
        "            'v2': ['BloodRayne', 'The Adventures of Rocky & Bullwinkle'],\r\n",
        "            'v3': ['Batman Begins', 'The Lord of the Rings: The Return of the King', 'Upside Down'],\r\n",
        "            'v4': ['300', 'Lucky Number Slevin', 'Kill Bill: Vol. 1'],\r\n",
        "            'v5': ['Upside Down', 'Inside Out', 'Iron Man']}\r\n",
        "\r\n",
        "for variant, films in variants.items():\r\n",
        "  if len(films) == len(top_films[top_films.isin(films)]):\r\n",
        "    answers['26'] = films"
      ],
      "execution_count": 333,
      "outputs": []
    },
    {
      "cell_type": "markdown",
      "metadata": {
        "id": "MdXsUXbCVqAV"
      },
      "source": [
        "# 27. Какие актеры чаще всего снимаются в одном фильме вместе?\n"
      ]
    },
    {
      "cell_type": "code",
      "metadata": {
        "id": "qn6xjz_Jt72S"
      },
      "source": [
        "# Создадим пары актеров для каждого фильма:\r\n",
        "L = ('Christian Bale', 'Gary Oldman', 'Robert Downy Jr.', 'Chris Evans', 'Evan Peters')\r\n",
        "\r\n",
        "\r\n",
        "def pairs(l):\r\n",
        "  p = []\r\n",
        "  for i in range(len(l)-1):\r\n",
        "    for j in range(i+1, len(l)):\r\n",
        "      if l[i]<l[j]:\r\n",
        "        p.append((l[i], l[j]))\r\n",
        "      else:\r\n",
        "        p.append((l[j], l[i]))\r\n",
        "  return p\r\n",
        "\r\n",
        "actors_pairs = []\r\n",
        "df['cast'].apply(lambda x: actors_pairs.extend(pairs(x)))\r\n",
        "answers['27'] = pd.Series(actors_pairs).value_counts().idxmax()"
      ],
      "execution_count": 334,
      "outputs": []
    },
    {
      "cell_type": "markdown",
      "metadata": {
        "id": "U0nONFnGVqAX"
      },
      "source": [
        "# Submission"
      ]
    },
    {
      "cell_type": "code",
      "metadata": {
        "id": "IfcaRO9-VqAX",
        "colab": {
          "base_uri": "https://localhost:8080/"
        },
        "outputId": "95819778-7438-42f3-f487-457c30fc2b34"
      },
      "source": [
        "# в конце можно посмотреть свои ответы к каждому вопросу\n",
        "answers"
      ],
      "execution_count": 335,
      "outputs": [
        {
          "output_type": "execute_result",
          "data": {
            "text/plain": [
              "{'1': 'Pirates of the Caribbean: On Stranger Tides',\n",
              " '10': 'The Lone Ranger',\n",
              " '11': 'Drama',\n",
              " '12': 'Drama',\n",
              " '13': 'Peter Jackson',\n",
              " '14': 'Robert Rodriguez',\n",
              " '15': 'Chris Hemsworth',\n",
              " '16': 'Matt Damon',\n",
              " '17': 'Action',\n",
              " '18': 'K-19: The Widowmaker',\n",
              " '19': 2015,\n",
              " '2': 'Gods and Generals',\n",
              " '20': 2014,\n",
              " '21': 'September',\n",
              " '22': 450,\n",
              " '23': 'Peter Jackson',\n",
              " '24': 'Four By Two Productions',\n",
              " '25': 'Midnight Picture Show',\n",
              " '26': ['Inside Out', 'The Dark Knight', '12 Years a Slave'],\n",
              " '27': ('Daniel Radcliffe', 'Rupert Grint'),\n",
              " '3': 'Winnie the Pooh',\n",
              " '4': 110.0,\n",
              " '5': 107.0,\n",
              " '6': 'Avatar',\n",
              " '7': 'The Lone Ranger',\n",
              " '8': 1478,\n",
              " '9': 'The Dark Knight'}"
            ]
          },
          "metadata": {
            "tags": []
          },
          "execution_count": 335
        }
      ]
    },
    {
      "cell_type": "code",
      "metadata": {
        "id": "SiRmHPl8VqAd",
        "colab": {
          "base_uri": "https://localhost:8080/"
        },
        "outputId": "45a60e67-fc97-43d9-c76e-15cab37edcb3"
      },
      "source": [
        "# и убедиться что ни чего не пропустил)\n",
        "len(answers)"
      ],
      "execution_count": 336,
      "outputs": [
        {
          "output_type": "execute_result",
          "data": {
            "text/plain": [
              "27"
            ]
          },
          "metadata": {
            "tags": []
          },
          "execution_count": 336
        }
      ]
    },
    {
      "cell_type": "code",
      "metadata": {
        "id": "uCfuTkRbVqAg"
      },
      "source": [
        ""
      ],
      "execution_count": null,
      "outputs": []
    },
    {
      "cell_type": "code",
      "metadata": {
        "id": "Vwx3NrkSVqAl"
      },
      "source": [
        ""
      ],
      "execution_count": null,
      "outputs": []
    }
  ]
}