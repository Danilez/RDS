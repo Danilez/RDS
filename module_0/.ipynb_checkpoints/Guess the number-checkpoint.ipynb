{
 "cells": [
  {
   "cell_type": "code",
   "execution_count": 3,
   "metadata": {
    "ExecuteTime": {
     "end_time": "2020-06-24T21:39:13.994260Z",
     "start_time": "2020-06-24T21:39:13.985981Z"
    }
   },
   "outputs": [],
   "source": [
    "import numpy as np"
   ]
  },
  {
   "cell_type": "code",
   "execution_count": 6,
   "metadata": {
    "ExecuteTime": {
     "end_time": "2020-06-24T21:46:23.150703Z",
     "start_time": "2020-06-24T21:46:01.446860Z"
    }
   },
   "outputs": [
    {
     "name": "stdout",
     "output_type": "stream",
     "text": [
      "Загадано число от 1 до 100\n",
      "50\n",
      "Угадываемое число меньше 50 \n",
      "25\n",
      "Угадываемое число меньше 25 \n",
      "12\n",
      "Угадываемое число меньше 12 \n",
      "6\n",
      "Угадываемое число больше 6 \n",
      "9\n",
      "Угадываемое число меньше 9 \n",
      "8\n",
      "Вы угадали число 8 за 6 попыток.\n"
     ]
    }
   ],
   "source": [
    "count = 0 # счетчик попыток\n",
    "number = np.random.randint(1,101) # загаданное число\n",
    "print(\"Загадано число от 1 до 100\")\n",
    "while True: # бесконечный цикл\n",
    "    predict = int(input()) # предлагаемое число\n",
    "    count += 1 # плюсуем попытку\n",
    "    if number == predict:\n",
    "        break # выход из цикла в случае угадывания\n",
    "    elif number > predict:\n",
    "        print (f\"Угадываемое число больше {predict} \")\n",
    "    elif number < predict:\n",
    "        print (f\"Угадываемое число меньше {predict} \")\n",
    "print (f\"Вы угадали число {number} за {count} попыток.\")"
   ]
  },
  {
   "cell_type": "code",
   "execution_count": 12,
   "metadata": {
    "ExecuteTime": {
     "end_time": "2020-06-24T21:58:31.783039Z",
     "start_time": "2020-06-24T21:58:31.761286Z"
    }
   },
   "outputs": [],
   "source": [
    "# Функция предлагает рандомные числа для угадывания и возвращает число попыток\n",
    "def game_core_v1(number):\n",
    "    count = 0\n",
    "    while True:\n",
    "        count+=1\n",
    "        predict = np.random.randint(1,101) # предполагаемое число\n",
    "        if number == predict: \n",
    "            return(count) # выход из цикла, если угадали\n",
    "        \n",
    "# Функция запускает игру 1000 раз и возвращает среднее число попыток         \n",
    "def score_game(game_core):\n",
    "    count_ls = []\n",
    "    np.random.seed(1) # фиксируем RANDOM SEED, чтобы эксперимент был воспроизводим\n",
    "    random_array = np.random.randint(1,101, size=(1000))\n",
    "    for number in random_array:\n",
    "        count_ls.append(game_core(number))\n",
    "    score = int(np.mean(count_ls))\n",
    "    print(f\"Ваш алгоритм угадывает число в среднем за {score} попыток\")\n",
    "    return(score)"
   ]
  },
  {
   "cell_type": "code",
   "execution_count": 13,
   "metadata": {
    "ExecuteTime": {
     "end_time": "2020-06-24T21:58:33.996659Z",
     "start_time": "2020-06-24T21:58:33.358784Z"
    }
   },
   "outputs": [
    {
     "name": "stdout",
     "output_type": "stream",
     "text": [
      "Ваш алгоритм угадывает число в среднем за 101 попыток\n"
     ]
    },
    {
     "data": {
      "text/plain": [
       "101"
      ]
     },
     "execution_count": 13,
     "metadata": {},
     "output_type": "execute_result"
    }
   ],
   "source": [
    "score_game(game_core_v1)"
   ]
  }
 ],
 "metadata": {
  "kernelspec": {
   "display_name": "Python 3",
   "language": "python",
   "name": "python3"
  },
  "language_info": {
   "codemirror_mode": {
    "name": "ipython",
    "version": 3
   },
   "file_extension": ".py",
   "mimetype": "text/x-python",
   "name": "python",
   "nbconvert_exporter": "python",
   "pygments_lexer": "ipython3",
   "version": "3.7.6"
  },
  "toc": {
   "base_numbering": 1,
   "nav_menu": {},
   "number_sections": true,
   "sideBar": true,
   "skip_h1_title": false,
   "title_cell": "Table of Contents",
   "title_sidebar": "Contents",
   "toc_cell": false,
   "toc_position": {},
   "toc_section_display": true,
   "toc_window_display": false
  },
  "varInspector": {
   "cols": {
    "lenName": 16,
    "lenType": 16,
    "lenVar": 40
   },
   "kernels_config": {
    "python": {
     "delete_cmd_postfix": "",
     "delete_cmd_prefix": "del ",
     "library": "var_list.py",
     "varRefreshCmd": "print(var_dic_list())"
    },
    "r": {
     "delete_cmd_postfix": ") ",
     "delete_cmd_prefix": "rm(",
     "library": "var_list.r",
     "varRefreshCmd": "cat(var_dic_list()) "
    }
   },
   "types_to_exclude": [
    "module",
    "function",
    "builtin_function_or_method",
    "instance",
    "_Feature"
   ],
   "window_display": false
  }
 },
 "nbformat": 4,
 "nbformat_minor": 4
}
